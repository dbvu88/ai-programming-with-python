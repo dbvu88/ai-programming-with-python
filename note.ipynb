{
 "cells": [
  {
   "cell_type": "code",
   "execution_count": null,
   "metadata": {},
   "outputs": [],
   "source": [
    "# counting mising data\n",
    "df.isna().sum()\n",
    "\n",
    "# create a simple chart\n",
    "na_counts = df.isna().sum()\n",
    "base_color = sb.color_palette()[0]\n",
    "sb.barplot(na_counts.index.values, na_counts, color = base_color)\n",
    "\n",
    "\n",
    "# get proportion taken by most common group for derivation\n",
    "# of tick marks\n",
    "n_points = df.shape[0]\n",
    "max_count = df['cat_var'].value_counts().max()\n",
    "max_prop = max_count / n_points\n",
    "\n",
    "# generate tick mark locations and names\n",
    "tick_props = np.arange(0, max_prop, 0.05)\n",
    "tick_names = ['{:0.2f}'.format(v) for v in tick_props]\n",
    "\n",
    "# create the plot\n",
    "base_color = sb.color_palette()[0]\n",
    "sb.countplot(data = df, x = 'cat_var', color = base_color)\n",
    "plt.yticks(tick_props * n_points, tick_names)\n",
    "plt.ylabel('proportion')\n",
    "\n",
    "# create the plot\n",
    "base_color = sb.color_palette()[0]\n",
    "sb.countplot(data = df, x = 'cat_var', color = base_color)\n",
    "\n",
    "# add annotations\n",
    "n_points = df.shape[0]\n",
    "cat_counts = df['cat_var'].value_counts()\n",
    "locs, labels = plt.xticks() # get the current tick locations and labels\n",
    "\n",
    "# loop through each pair of locations and labels\n",
    "for loc, label in zip(locs, labels):\n",
    "\n",
    "    # get the text property for the label to get the correct count\n",
    "    count = cat_counts[label.get_text()]\n",
    "    pct_string = '{:0.1f}%'.format(100*count/n_points)\n",
    "\n",
    "    # print the annotation just below the top of the bar\n",
    "    plt.text(loc, count-8, pct_string, ha = 'center', color = 'w')"
   ]
  }
 ],
 "metadata": {
  "kernelspec": {
   "display_name": "Python [default]",
   "language": "python",
   "name": "python3"
  },
  "language_info": {
   "codemirror_mode": {
    "name": "ipython",
    "version": 3
   },
   "file_extension": ".py",
   "mimetype": "text/x-python",
   "name": "python",
   "nbconvert_exporter": "python",
   "pygments_lexer": "ipython3",
   "version": "3.6.5"
  }
 },
 "nbformat": 4,
 "nbformat_minor": 2
}
