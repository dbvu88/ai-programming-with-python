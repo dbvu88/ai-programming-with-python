{
 "cells": [
  {
   "cell_type": "code",
   "execution_count": 1,
   "metadata": {},
   "outputs": [],
   "source": [
    "import pandas as pd"
   ]
  },
  {
   "cell_type": "code",
   "execution_count": 5,
   "metadata": {},
   "outputs": [],
   "source": [
    "#google_stock = pd.read_csv('./GOOG.csv')\n",
    "\n",
    "# use .head to see top 5 rows\n",
    "\n",
    "# use .tail(8) to see the last 5 rows\n",
    "\n",
    "\n",
    "# use isnull().any() to check for NaN value\n",
    "\n",
    "# use .describe() to list all the calculated stat\n",
    "\n",
    "# use stat functions such as sum() mean() max() min() return reslt for each columns\n",
    "\n",
    "# coor() allows to look at specific group \n",
    "\n",
    "# groupby('year') - group data by labels ex: groupby(['Year'])['Salary'].sum() - calculate salary of every year"
   ]
  },
  {
   "cell_type": "code",
   "execution_count": null,
   "metadata": {},
   "outputs": [],
   "source": []
  }
 ],
 "metadata": {
  "kernelspec": {
   "display_name": "Python [default]",
   "language": "python",
   "name": "python3"
  },
  "language_info": {
   "codemirror_mode": {
    "name": "ipython",
    "version": 3
   },
   "file_extension": ".py",
   "mimetype": "text/x-python",
   "name": "python",
   "nbconvert_exporter": "python",
   "pygments_lexer": "ipython3",
   "version": "3.6.5"
  }
 },
 "nbformat": 4,
 "nbformat_minor": 2
}
